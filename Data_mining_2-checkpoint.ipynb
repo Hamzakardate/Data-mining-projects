{
 "cells": [
  {
   "cell_type": "code",
   "execution_count": 668,
   "metadata": {},
   "outputs": [],
   "source": [
    "# Load libraries\n",
    "import numpy\n",
    "import pandas as pd\n",
    "import numpy as np\n",
    "from sklearn.tree import DecisionTreeClassifier \n",
    "from sklearn.ensemble import RandomForestClassifier\n",
    "from sklearn.model_selection import train_test_split \n",
    "from sklearn import metrics \n",
    "import scikitplot as skplt\n",
    "from sklearn import tree\n",
    "import matplotlib.pyplot as plt\n",
    "%matplotlib inline\n",
    "\n",
    "np.random.seed(10)\n",
    "import sklearn.ensemble\n",
    "from sklearn.neighbors import NearestNeighbors\n",
    "import sklearn.svm\n",
    "import sklearn.tree\n",
    "\n",
    "\n",
    "#for visualization\n",
    "import seaborn as sns\n",
    "import matplotlib.pyplot as plt\n",
    "%matplotlib inline\n",
    "\n",
    "#Machine learning\n",
    "import sklearn.metrics as metrics\n",
    "from sklearn.tree import DecisionTreeClassifier\n",
    "from sklearn.model_selection import train_test_split,cross_val_score, GridSearchCV\n",
    "import warnings\n",
    "warnings.filterwarnings('ignore')\n",
    "# identify outliers with interquartile range\n",
    "from numpy.random import seed\n",
    "from numpy.random import randn\n",
    "from numpy import percentile"
   ]
  },
  {
   "cell_type": "code",
   "execution_count": 669,
   "metadata": {},
   "outputs": [
    {
     "name": "stdout",
     "output_type": "stream",
     "text": [
      "C:\\Users\\ASUS\\Desktop\\Master\\S2\\Data_mining_2\n"
     ]
    }
   ],
   "source": [
    "cd C:/Users/ASUS/Desktop/Master/S2/Data_mining_2"
   ]
  },
  {
   "cell_type": "code",
   "execution_count": 670,
   "metadata": {},
   "outputs": [
    {
     "data": {
      "text/html": [
       "<div>\n",
       "<style scoped>\n",
       "    .dataframe tbody tr th:only-of-type {\n",
       "        vertical-align: middle;\n",
       "    }\n",
       "\n",
       "    .dataframe tbody tr th {\n",
       "        vertical-align: top;\n",
       "    }\n",
       "\n",
       "    .dataframe thead th {\n",
       "        text-align: right;\n",
       "    }\n",
       "</style>\n",
       "<table border=\"1\" class=\"dataframe\">\n",
       "  <thead>\n",
       "    <tr style=\"text-align: right;\">\n",
       "      <th></th>\n",
       "      <th>fixed acidity</th>\n",
       "      <th>volatile acidity</th>\n",
       "      <th>citric acid</th>\n",
       "      <th>residual sugar</th>\n",
       "      <th>chlorides</th>\n",
       "      <th>free sulfur dioxide</th>\n",
       "      <th>total sulfur dioxide</th>\n",
       "      <th>density</th>\n",
       "      <th>pH</th>\n",
       "      <th>sulphates</th>\n",
       "      <th>alcohol</th>\n",
       "      <th>quality</th>\n",
       "    </tr>\n",
       "  </thead>\n",
       "  <tbody>\n",
       "    <tr>\n",
       "      <th>0</th>\n",
       "      <td>7.0</td>\n",
       "      <td>0.27</td>\n",
       "      <td>0.36</td>\n",
       "      <td>20.7</td>\n",
       "      <td>0.045</td>\n",
       "      <td>45.0</td>\n",
       "      <td>170.0</td>\n",
       "      <td>1.0010</td>\n",
       "      <td>3.00</td>\n",
       "      <td>0.45</td>\n",
       "      <td>8.8</td>\n",
       "      <td>6</td>\n",
       "    </tr>\n",
       "    <tr>\n",
       "      <th>1</th>\n",
       "      <td>6.3</td>\n",
       "      <td>0.30</td>\n",
       "      <td>0.34</td>\n",
       "      <td>1.6</td>\n",
       "      <td>0.049</td>\n",
       "      <td>14.0</td>\n",
       "      <td>132.0</td>\n",
       "      <td>0.9940</td>\n",
       "      <td>3.30</td>\n",
       "      <td>0.49</td>\n",
       "      <td>9.5</td>\n",
       "      <td>6</td>\n",
       "    </tr>\n",
       "    <tr>\n",
       "      <th>2</th>\n",
       "      <td>8.1</td>\n",
       "      <td>0.28</td>\n",
       "      <td>0.40</td>\n",
       "      <td>6.9</td>\n",
       "      <td>0.050</td>\n",
       "      <td>30.0</td>\n",
       "      <td>97.0</td>\n",
       "      <td>0.9951</td>\n",
       "      <td>3.26</td>\n",
       "      <td>0.44</td>\n",
       "      <td>10.1</td>\n",
       "      <td>6</td>\n",
       "    </tr>\n",
       "    <tr>\n",
       "      <th>3</th>\n",
       "      <td>7.2</td>\n",
       "      <td>0.23</td>\n",
       "      <td>0.32</td>\n",
       "      <td>8.5</td>\n",
       "      <td>0.058</td>\n",
       "      <td>47.0</td>\n",
       "      <td>186.0</td>\n",
       "      <td>0.9956</td>\n",
       "      <td>3.19</td>\n",
       "      <td>0.40</td>\n",
       "      <td>9.9</td>\n",
       "      <td>6</td>\n",
       "    </tr>\n",
       "    <tr>\n",
       "      <th>4</th>\n",
       "      <td>7.2</td>\n",
       "      <td>0.23</td>\n",
       "      <td>0.32</td>\n",
       "      <td>8.5</td>\n",
       "      <td>0.058</td>\n",
       "      <td>47.0</td>\n",
       "      <td>186.0</td>\n",
       "      <td>0.9956</td>\n",
       "      <td>3.19</td>\n",
       "      <td>0.40</td>\n",
       "      <td>9.9</td>\n",
       "      <td>6</td>\n",
       "    </tr>\n",
       "  </tbody>\n",
       "</table>\n",
       "</div>"
      ],
      "text/plain": [
       "   fixed acidity  volatile acidity  citric acid  residual sugar  chlorides  \\\n",
       "0            7.0              0.27         0.36            20.7      0.045   \n",
       "1            6.3              0.30         0.34             1.6      0.049   \n",
       "2            8.1              0.28         0.40             6.9      0.050   \n",
       "3            7.2              0.23         0.32             8.5      0.058   \n",
       "4            7.2              0.23         0.32             8.5      0.058   \n",
       "\n",
       "   free sulfur dioxide  total sulfur dioxide  density    pH  sulphates  \\\n",
       "0                 45.0                 170.0   1.0010  3.00       0.45   \n",
       "1                 14.0                 132.0   0.9940  3.30       0.49   \n",
       "2                 30.0                  97.0   0.9951  3.26       0.44   \n",
       "3                 47.0                 186.0   0.9956  3.19       0.40   \n",
       "4                 47.0                 186.0   0.9956  3.19       0.40   \n",
       "\n",
       "   alcohol  quality  \n",
       "0      8.8        6  \n",
       "1      9.5        6  \n",
       "2     10.1        6  \n",
       "3      9.9        6  \n",
       "4      9.9        6  "
      ]
     },
     "execution_count": 670,
     "metadata": {},
     "output_type": "execute_result"
    }
   ],
   "source": [
    "# reading the data file\n",
    "iris_df = pd.read_csv('database/winequality-white.csv',sep=';')\n",
    "# print the first 5 rows of the data\n",
    "iris_df.head()"
   ]
  },
  {
   "cell_type": "code",
   "execution_count": 671,
   "metadata": {},
   "outputs": [
    {
     "data": {
      "text/plain": [
       "(4898, 12)"
      ]
     },
     "execution_count": 671,
     "metadata": {},
     "output_type": "execute_result"
    }
   ],
   "source": [
    "iris_df.shape"
   ]
  },
  {
   "cell_type": "code",
   "execution_count": 672,
   "metadata": {
    "scrolled": true
   },
   "outputs": [
    {
     "name": "stdout",
     "output_type": "stream",
     "text": [
      "<class 'pandas.core.frame.DataFrame'>\n",
      "RangeIndex: 4898 entries, 0 to 4897\n",
      "Data columns (total 12 columns):\n",
      " #   Column                Non-Null Count  Dtype  \n",
      "---  ------                --------------  -----  \n",
      " 0   fixed acidity         4898 non-null   float64\n",
      " 1   volatile acidity      4898 non-null   float64\n",
      " 2   citric acid           4898 non-null   float64\n",
      " 3   residual sugar        4898 non-null   float64\n",
      " 4   chlorides             4898 non-null   float64\n",
      " 5   free sulfur dioxide   4898 non-null   float64\n",
      " 6   total sulfur dioxide  4898 non-null   float64\n",
      " 7   density               4898 non-null   float64\n",
      " 8   pH                    4898 non-null   float64\n",
      " 9   sulphates             4898 non-null   float64\n",
      " 10  alcohol               4898 non-null   float64\n",
      " 11  quality               4898 non-null   int64  \n",
      "dtypes: float64(11), int64(1)\n",
      "memory usage: 459.3 KB\n"
     ]
    }
   ],
   "source": [
    "iris_df.info()"
   ]
  },
  {
   "cell_type": "code",
   "execution_count": 673,
   "metadata": {},
   "outputs": [],
   "source": [
    "X = iris_df.iloc[:,:-1] # Features\n",
    "y = iris_df.iloc[:,-1]"
   ]
  },
  {
   "cell_type": "code",
   "execution_count": 674,
   "metadata": {},
   "outputs": [
    {
     "data": {
      "image/png": "[encoded data removed]",
      "text/plain": [
       "<Figure size 432x288 with 2 Axes>"
      ]
     },
     "metadata": {},
     "output_type": "display_data"
    }
   ],
   "source": [
    "# set a grey background (use sns.set_theme() if seaborn version 0.11.0 or above) \n",
    "sns.set(style=\"darkgrid\")\n",
    "iris_df\n",
    " \n",
    "# creating a figure composed of two matplotlib.Axes objects (ax_box and ax_hist)\n",
    "f, (ax_box, ax_hist) = plt.subplots(2, sharex=True, gridspec_kw={\"height_ratios\": (.15, .85)})\n",
    " \n",
    "# assigning a graph to each ax\n",
    "sns.boxplot(iris_df[\"fixed acidity\"], ax=ax_box)\n",
    "sns.histplot(data=iris_df, x=\"fixed acidity\", ax=ax_hist)\n",
    " \n",
    "# Remove x axis name for the boxplot\n",
    "ax_box.set(xlabel='')\n",
    "plt.show()"
   ]
  },
  {
   "cell_type": "code",
   "execution_count": 675,
   "metadata": {},
   "outputs": [
    {
     "name": "stdout",
     "output_type": "stream",
     "text": [
      "Percentiles: 25th=6.300, 75th=7.300, IQR=1.000\n",
      "Identified outliers: 119\n",
      "Non-outlier observations: 4779\n"
     ]
    }
   ],
   "source": [
    "# seed the random number generator\n",
    "seed(1)\n",
    "# generate univariate observations\n",
    "data = iris_df.iloc[:,0]\n",
    "# calculate interquartile range\n",
    "q25, q75 = percentile(data, 25), percentile(data, 75)\n",
    "iqr = q75 - q25\n",
    "print('Percentiles: 25th=%.3f, 75th=%.3f, IQR=%.3f' % (q25, q75, iqr))\n",
    "# calculate the outlier cutoff\n",
    "cut_off = iqr * 1.5\n",
    "lower, upper = q25 - cut_off, q75 + cut_off\n",
    "# identify outliers\n",
    "outliers = [x for x in data if x < lower or x > upper]\n",
    "print('Identified outliers: %d' % len(outliers))\n",
    "# remove outliers\n",
    "outliers_removed = [x for x in data if x >= lower and x <= upper]\n",
    "print('Non-outlier observations: %d' % len(outliers_removed))"
   ]
  },
  {
   "cell_type": "code",
   "execution_count": 676,
   "metadata": {},
   "outputs": [],
   "source": [
    "#iris_df['fixed acidity'][iris_df['fixed acidity'] in outliers]=np.nan\n",
    "c=0\n",
    "for i in iris_df.iloc[:,0]:\n",
    "    c=c+1\n",
    "    if i in outliers:\n",
    "        iris_df.iloc[:,0][c-1]=np.nan\n",
    "        \"\"\"\n",
    "        iris_df.iloc[:,1]=np.nan\n",
    "        \"\"\"\n",
    "     \n",
    "\n",
    "\n",
    "\n",
    "    \n",
    "  "
   ]
  },
  {
   "cell_type": "code",
   "execution_count": 677,
   "metadata": {},
   "outputs": [],
   "source": [
    "percent_missing = iris_df.isnull().sum() * 100 / len(iris_df)\n",
    "\n",
    "for i in range(len(percent_missing)):\n",
    "    if percent_missing[i]!=0:\n",
    "            iris_df[iris_df.columns[i]].fillna(iris_df[iris_df.columns[i]].mode()[0] ,inplace=True)\n",
    "        \n",
    "            "
   ]
  },
  {
   "cell_type": "code",
   "execution_count": 678,
   "metadata": {},
   "outputs": [
    {
     "data": {
      "image/png": "[encoded data removed]",
      "text/plain": [
       "<Figure size 432x288 with 2 Axes>"
      ]
     },
     "metadata": {},
     "output_type": "display_data"
    }
   ],
   "source": [
    "# set a grey background (use sns.set_theme() if seaborn version 0.11.0 or above) \n",
    "sns.set(style=\"darkgrid\")\n",
    "iris_df\n",
    " \n",
    "# creating a figure composed of two matplotlib.Axes objects (ax_box and ax_hist)\n",
    "f, (ax_box, ax_hist) = plt.subplots(2, sharex=True, gridspec_kw={\"height_ratios\": (.15, .85)})\n",
    " \n",
    "# assigning a graph to each ax\n",
    "sns.boxplot(iris_df[\"fixed acidity\"], ax=ax_box)\n",
    "sns.histplot(data=iris_df, x=\"fixed acidity\", ax=ax_hist)\n",
    " \n",
    "# Remove x axis name for the boxplot\n",
    "ax_box.set(xlabel='')\n",
    "plt.show()"
   ]
  },
  {
   "cell_type": "code",
   "execution_count": 679,
   "metadata": {},
   "outputs": [
    {
     "name": "stdout",
     "output_type": "stream",
     "text": [
      "<class 'pandas.core.frame.DataFrame'>\n",
      "RangeIndex: 4898 entries, 0 to 4897\n",
      "Data columns (total 12 columns):\n",
      " #   Column                Non-Null Count  Dtype  \n",
      "---  ------                --------------  -----  \n",
      " 0   fixed acidity         4898 non-null   float64\n",
      " 1   volatile acidity      4898 non-null   float64\n",
      " 2   citric acid           4898 non-null   float64\n",
      " 3   residual sugar        4898 non-null   float64\n",
      " 4   chlorides             4898 non-null   float64\n",
      " 5   free sulfur dioxide   4898 non-null   float64\n",
      " 6   total sulfur dioxide  4898 non-null   float64\n",
      " 7   density               4898 non-null   float64\n",
      " 8   pH                    4898 non-null   float64\n",
      " 9   sulphates             4898 non-null   float64\n",
      " 10  alcohol               4898 non-null   float64\n",
      " 11  quality               4898 non-null   int64  \n",
      "dtypes: float64(11), int64(1)\n",
      "memory usage: 459.3 KB\n"
     ]
    }
   ],
   "source": [
    "iris_df.info()"
   ]
  },
  {
   "cell_type": "code",
   "execution_count": 680,
   "metadata": {},
   "outputs": [
    {
     "data": {
      "image/png": "[encoded data removed]",
      "text/plain": [
       "<Figure size 432x288 with 2 Axes>"
      ]
     },
     "metadata": {},
     "output_type": "display_data"
    }
   ],
   "source": [
    "# set a grey background (use sns.set_theme() if seaborn version 0.11.0 or above) \n",
    "sns.set(style=\"darkgrid\")\n",
    "iris_df\n",
    " \n",
    "# creating a figure composed of two matplotlib.Axes objects (ax_box and ax_hist)\n",
    "f, (ax_box, ax_hist) = plt.subplots(2, sharex=True, gridspec_kw={\"height_ratios\": (.15, .85)})\n",
    " \n",
    "# assigning a graph to each ax\n",
    "sns.boxplot(iris_df[\"volatile acidity\"], ax=ax_box)\n",
    "sns.histplot(data=iris_df, x=\"volatile acidity\", ax=ax_hist)\n",
    " \n",
    "# Remove x axis name for the boxplot\n",
    "ax_box.set(xlabel='')\n",
    "plt.show()"
   ]
  },
  {
   "cell_type": "code",
   "execution_count": 688,
   "metadata": {},
   "outputs": [
    {
     "name": "stdout",
     "output_type": "stream",
     "text": [
      "Percentiles: 25th=0.210, 75th=0.310, IQR=0.100\n",
      "Identified outliers: 38\n",
      "Non-outlier observations: 4860\n"
     ]
    }
   ],
   "source": [
    "# seed the random number generator\n",
    "seed(1)\n",
    "# generate univariate observations\n",
    "data = iris_df.iloc[:,1]\n",
    "# calculate interquartile range\n",
    "q25, q75 = percentile(data, 25), percentile(data, 75)\n",
    "iqr = q75 - q25\n",
    "print('Percentiles: 25th=%.3f, 75th=%.3f, IQR=%.3f' % (q25, q75, iqr))\n",
    "# calculate the outlier cutoff\n",
    "cut_off = iqr * 1.5\n",
    "lower, upper = q25 - cut_off, q75 + cut_off\n",
    "# identify outliers\n",
    "outliers = [x for x in data if x < lower or x > upper]\n",
    "print('Identified outliers: %d' % len(outliers))\n",
    "# remove outliers\n",
    "outliers_removed = [x for x in data if x >= lower and x <= upper]\n",
    "print('Non-outlier observations: %d' % len(outliers_removed))"
   ]
  },
  {
   "cell_type": "code",
   "execution_count": 689,
   "metadata": {},
   "outputs": [],
   "source": [
    "#iris_df['fixed acidity'][iris_df['fixed acidity'] in outliers]=np.nan\n",
    "c=0\n",
    "for i in iris_df.iloc[:,1]:\n",
    "    c=c+1\n",
    "    if i in outliers:\n",
    "        iris_df.iloc[:,1][c-1]=np.nan\n",
    "        \"\"\"\n",
    "        iris_df.iloc[:,1]=np.nan\n",
    "        \"\"\"\n",
    "     \n",
    "\n"
   ]
  },
  {
   "cell_type": "code",
   "execution_count": 690,
   "metadata": {},
   "outputs": [],
   "source": [
    "percent_missing = iris_df.isnull().sum() * 100 / len(iris_df)\n",
    "\n",
    "for i in range(len(percent_missing)):\n",
    "    if percent_missing[i]!=0:\n",
    "            iris_df[iris_df.columns[i]].fillna(iris_df[iris_df.columns[i]].mode()[0] ,inplace=True)\n",
    "        "
   ]
  },
  {
   "cell_type": "code",
   "execution_count": 691,
   "metadata": {},
   "outputs": [
    {
     "data": {
      "image/png": "[encoded data removed]",
      "text/plain": [
       "<Figure size 432x288 with 2 Axes>"
      ]
     },
     "metadata": {},
     "output_type": "display_data"
    }
   ],
   "source": [
    "# set a grey background (use sns.set_theme() if seaborn version 0.11.0 or above) \n",
    "sns.set(style=\"darkgrid\")\n",
    "iris_df\n",
    " \n",
    "# creating a figure composed of two matplotlib.Axes objects (ax_box and ax_hist)\n",
    "f, (ax_box, ax_hist) = plt.subplots(2, sharex=True, gridspec_kw={\"height_ratios\": (.15, .85)})\n",
    " \n",
    "# assigning a graph to each ax\n",
    "sns.boxplot(iris_df[\"volatile acidity\"], ax=ax_box)\n",
    "sns.histplot(data=iris_df, x=\"volatile acidity\", ax=ax_hist)\n",
    " \n",
    "# Remove x axis name for the boxplot\n",
    "ax_box.set(xlabel='')\n",
    "plt.show()"
   ]
  },
  {
   "cell_type": "code",
   "execution_count": 692,
   "metadata": {},
   "outputs": [
    {
     "name": "stdout",
     "output_type": "stream",
     "text": [
      "<class 'pandas.core.frame.DataFrame'>\n",
      "RangeIndex: 4898 entries, 0 to 4897\n",
      "Data columns (total 12 columns):\n",
      " #   Column                Non-Null Count  Dtype  \n",
      "---  ------                --------------  -----  \n",
      " 0   fixed acidity         4898 non-null   float64\n",
      " 1   volatile acidity      4898 non-null   float64\n",
      " 2   citric acid           4898 non-null   float64\n",
      " 3   residual sugar        4898 non-null   float64\n",
      " 4   chlorides             4898 non-null   float64\n",
      " 5   free sulfur dioxide   4898 non-null   float64\n",
      " 6   total sulfur dioxide  4898 non-null   float64\n",
      " 7   density               4898 non-null   float64\n",
      " 8   pH                    4898 non-null   float64\n",
      " 9   sulphates             4898 non-null   float64\n",
      " 10  alcohol               4898 non-null   float64\n",
      " 11  quality               4898 non-null   int64  \n",
      "dtypes: float64(11), int64(1)\n",
      "memory usage: 459.3 KB\n"
     ]
    }
   ],
   "source": [
    "iris_df.info()"
   ]
  },
  {
   "cell_type": "code",
   "execution_count": 701,
   "metadata": {},
   "outputs": [
    {
     "name": "stdout",
     "output_type": "stream",
     "text": [
      "Percentiles: 25th=0.270, 75th=0.360, IQR=0.090\n",
      "Identified outliers: 100\n",
      "Non-outlier observations: 4798\n"
     ]
    }
   ],
   "source": [
    "# seed the random number generator\n",
    "seed(1)\n",
    "# generate univariate observations\n",
    "data = iris_df.iloc[:,2]\n",
    "# calculate interquartile range\n",
    "q25, q75 = percentile(data, 25), percentile(data, 75)\n",
    "iqr = q75 - q25\n",
    "print('Percentiles: 25th=%.3f, 75th=%.3f, IQR=%.3f' % (q25, q75, iqr))\n",
    "# calculate the outlier cutoff\n",
    "cut_off = iqr * 1.5\n",
    "lower, upper = q25 - cut_off, q75 + cut_off\n",
    "# identify outliers\n",
    "outliers = [x for x in data if x < lower or x > upper]\n",
    "print('Identified outliers: %d' % len(outliers))\n",
    "# remove outliers\n",
    "outliers_removed = [x for x in data if x >= lower and x <= upper]\n",
    "print('Non-outlier observations: %d' % len(outliers_removed))"
   ]
  },
  {
   "cell_type": "code",
   "execution_count": 702,
   "metadata": {},
   "outputs": [],
   "source": [
    "#iris_df['fixed acidity'][iris_df['fixed acidity'] in outliers]=np.nan\n",
    "c=0\n",
    "for i in iris_df.iloc[:,2]:\n",
    "    c=c+1\n",
    "    if i in outliers:\n",
    "        iris_df.iloc[:,2][c-1]=np.nan\n",
    "        \"\"\"\n",
    "        iris_df.iloc[:,1]=np.nan\n",
    "        \"\"\"\n",
    "     \n"
   ]
  },
  {
   "cell_type": "code",
   "execution_count": 703,
   "metadata": {},
   "outputs": [],
   "source": [
    "percent_missing = iris_df.isnull().sum() * 100 / len(iris_df)\n",
    "\n",
    "for i in range(len(percent_missing)):\n",
    "    if percent_missing[i]!=0:\n",
    "            iris_df[iris_df.columns[i]].fillna(iris_df[iris_df.columns[i]].mode()[0] ,inplace=True)"
   ]
  },
  {
   "cell_type": "code",
   "execution_count": 704,
   "metadata": {},
   "outputs": [
    {
     "data": {
      "image/png": "[encoded data removed]",
      "text/plain": [
       "<Figure size 432x288 with 2 Axes>"
      ]
     },
     "metadata": {},
     "output_type": "display_data"
    }
   ],
   "source": [
    "# set a grey background (use sns.set_theme() if seaborn version 0.11.0 or above) \n",
    "sns.set(style=\"darkgrid\")\n",
    "iris_df\n",
    " \n",
    "# creating a figure composed of two matplotlib.Axes objects (ax_box and ax_hist)\n",
    "f, (ax_box, ax_hist) = plt.subplots(2, sharex=True, gridspec_kw={\"height_ratios\": (.15, .85)})\n",
    " \n",
    "# assigning a graph to each ax\n",
    "sns.boxplot(iris_df[\"citric acid\"], ax=ax_box)\n",
    "sns.histplot(data=iris_df, x=\"citric acid\", ax=ax_hist)\n",
    " \n",
    "# Remove x axis name for the boxplot\n",
    "ax_box.set(xlabel='')\n",
    "plt.show()"
   ]
  },
  {
   "cell_type": "code",
   "execution_count": 705,
   "metadata": {},
   "outputs": [
    {
     "name": "stdout",
     "output_type": "stream",
     "text": [
      "<class 'pandas.core.frame.DataFrame'>\n",
      "RangeIndex: 4898 entries, 0 to 4897\n",
      "Data columns (total 12 columns):\n",
      " #   Column                Non-Null Count  Dtype  \n",
      "---  ------                --------------  -----  \n",
      " 0   fixed acidity         4898 non-null   float64\n",
      " 1   volatile acidity      4898 non-null   float64\n",
      " 2   citric acid           4898 non-null   float64\n",
      " 3   residual sugar        4898 non-null   float64\n",
      " 4   chlorides             4898 non-null   float64\n",
      " 5   free sulfur dioxide   4898 non-null   float64\n",
      " 6   total sulfur dioxide  4898 non-null   float64\n",
      " 7   density               4898 non-null   float64\n",
      " 8   pH                    4898 non-null   float64\n",
      " 9   sulphates             4898 non-null   float64\n",
      " 10  alcohol               4898 non-null   float64\n",
      " 11  quality               4898 non-null   int64  \n",
      "dtypes: float64(11), int64(1)\n",
      "memory usage: 459.3 KB\n"
     ]
    }
   ],
   "source": [
    "iris_df.info()"
   ]
  },
  {
   "cell_type": "code",
   "execution_count": 708,
   "metadata": {},
   "outputs": [
    {
     "name": "stdout",
     "output_type": "stream",
     "text": [
      "Percentiles: 25th=1.700, 75th=9.900, IQR=8.200\n",
      "Identified outliers: 7\n",
      "Non-outlier observations: 4891\n"
     ]
    }
   ],
   "source": [
    "# seed the random number generator\n",
    "seed(1)\n",
    "# generate univariate observations\n",
    "data = iris_df.iloc[:,3]\n",
    "# calculate interquartile range\n",
    "q25, q75 = percentile(data, 25), percentile(data, 75)\n",
    "iqr = q75 - q25\n",
    "print('Percentiles: 25th=%.3f, 75th=%.3f, IQR=%.3f' % (q25, q75, iqr))\n",
    "# calculate the outlier cutoff\n",
    "cut_off = iqr * 1.5\n",
    "lower, upper = q25 - cut_off, q75 + cut_off\n",
    "# identify outliers\n",
    "outliers = [x for x in data if x < lower or x > upper]\n",
    "print('Identified outliers: %d' % len(outliers))\n",
    "# remove outliers\n",
    "outliers_removed = [x for x in data if x >= lower and x <= upper]\n",
    "print('Non-outlier observations: %d' % len(outliers_removed))"
   ]
  },
  {
   "cell_type": "code",
   "execution_count": 709,
   "metadata": {},
   "outputs": [
    {
     "data": {
      "image/png": "[encoded data removed]",
      "text/plain": [
       "<Figure size 432x288 with 2 Axes>"
      ]
     },
     "metadata": {},
     "output_type": "display_data"
    }
   ],
   "source": [
    "# set a grey background (use sns.set_theme() if seaborn version 0.11.0 or above) \n",
    "sns.set(style=\"darkgrid\")\n",
    "iris_df\n",
    " \n",
    "# creating a figure composed of two matplotlib.Axes objects (ax_box and ax_hist)\n",
    "f, (ax_box, ax_hist) = plt.subplots(2, sharex=True, gridspec_kw={\"height_ratios\": (.15, .85)})\n",
    " \n",
    "# assigning a graph to each ax\n",
    "sns.boxplot(iris_df[\"residual sugar\"], ax=ax_box)\n",
    "sns.histplot(data=iris_df, x=\"residual sugar\", ax=ax_hist)\n",
    " \n",
    "# Remove x axis name for the boxplot\n",
    "ax_box.set(xlabel='')\n",
    "plt.show()"
   ]
  },
  {
   "cell_type": "code",
   "execution_count": 710,
   "metadata": {},
   "outputs": [],
   "source": [
    "#iris_df['fixed acidity'][iris_df['fixed acidity'] in outliers]=np.nan\n",
    "c=0\n",
    "for i in iris_df.iloc[:,3]:\n",
    "    c=c+1\n",
    "    if i in outliers:\n",
    "        iris_df.iloc[:,3][c-1]=np.nan\n",
    "        \"\"\"\n",
    "        iris_df.iloc[:,1]=np.nan\n",
    "        \"\"\"\n",
    "     "
   ]
  },
  {
   "cell_type": "code",
   "execution_count": 711,
   "metadata": {},
   "outputs": [],
   "source": [
    "percent_missing = iris_df.isnull().sum() * 100 / len(iris_df)\n",
    "\n",
    "for i in range(len(percent_missing)):\n",
    "    if percent_missing[i]!=0:\n",
    "            iris_df[iris_df.columns[i]].fillna(iris_df[iris_df.columns[i]].mode()[0] ,inplace=True)"
   ]
  },
  {
   "cell_type": "code",
   "execution_count": 712,
   "metadata": {},
   "outputs": [
    {
     "data": {
      "image/png": "[encoded data removed]",
      "text/plain": [
       "<Figure size 432x288 with 2 Axes>"
      ]
     },
     "metadata": {},
     "output_type": "display_data"
    }
   ],
   "source": [
    "# set a grey background (use sns.set_theme() if seaborn version 0.11.0 or above) \n",
    "sns.set(style=\"darkgrid\")\n",
    "iris_df\n",
    " \n",
    "# creating a figure composed of two matplotlib.Axes objects (ax_box and ax_hist)\n",
    "f, (ax_box, ax_hist) = plt.subplots(2, sharex=True, gridspec_kw={\"height_ratios\": (.15, .85)})\n",
    " \n",
    "# assigning a graph to each ax\n",
    "sns.boxplot(iris_df[\"residual sugar\"], ax=ax_box)\n",
    "sns.histplot(data=iris_df, x=\"residual sugar\", ax=ax_hist)\n",
    " \n",
    "# Remove x axis name for the boxplot\n",
    "ax_box.set(xlabel='')\n",
    "plt.show()"
   ]
  },
  {
   "cell_type": "code",
   "execution_count": 713,
   "metadata": {},
   "outputs": [
    {
     "name": "stdout",
     "output_type": "stream",
     "text": [
      "<class 'pandas.core.frame.DataFrame'>\n",
      "RangeIndex: 4898 entries, 0 to 4897\n",
      "Data columns (total 12 columns):\n",
      " #   Column                Non-Null Count  Dtype  \n",
      "---  ------                --------------  -----  \n",
      " 0   fixed acidity         4898 non-null   float64\n",
      " 1   volatile acidity      4898 non-null   float64\n",
      " 2   citric acid           4898 non-null   float64\n",
      " 3   residual sugar        4898 non-null   float64\n",
      " 4   chlorides             4898 non-null   float64\n",
      " 5   free sulfur dioxide   4898 non-null   float64\n",
      " 6   total sulfur dioxide  4898 non-null   float64\n",
      " 7   density               4898 non-null   float64\n",
      " 8   pH                    4898 non-null   float64\n",
      " 9   sulphates             4898 non-null   float64\n",
      " 10  alcohol               4898 non-null   float64\n",
      " 11  quality               4898 non-null   int64  \n",
      "dtypes: float64(11), int64(1)\n",
      "memory usage: 459.3 KB\n"
     ]
    }
   ],
   "source": [
    "iris_df.info()"
   ]
  },
  {
   "cell_type": "code",
   "execution_count": 719,
   "metadata": {},
   "outputs": [
    {
     "name": "stdout",
     "output_type": "stream",
     "text": [
      "Percentiles: 25th=0.036, 75th=0.049, IQR=0.013\n",
      "Identified outliers: 34\n",
      "Non-outlier observations: 4864\n"
     ]
    }
   ],
   "source": [
    "# seed the random number generator\n",
    "seed(1)\n",
    "# generate univariate observations\n",
    "data = iris_df.iloc[:,4]\n",
    "# calculate interquartile range\n",
    "q25, q75 = percentile(data, 25), percentile(data, 75)\n",
    "iqr = q75 - q25\n",
    "print('Percentiles: 25th=%.3f, 75th=%.3f, IQR=%.3f' % (q25, q75, iqr))\n",
    "# calculate the outlier cutoff\n",
    "cut_off = iqr * 1.5\n",
    "lower, upper = q25 - cut_off, q75 + cut_off\n",
    "# identify outliers\n",
    "outliers = [x for x in data if x < lower or x > upper]\n",
    "print('Identified outliers: %d' % len(outliers))\n",
    "# remove outliers\n",
    "outliers_removed = [x for x in data if x >= lower and x <= upper]\n",
    "print('Non-outlier observations: %d' % len(outliers_removed))"
   ]
  },
  {
   "cell_type": "code",
   "execution_count": 715,
   "metadata": {},
   "outputs": [
    {
     "data": {
      "image/png": "[encoded data removed]",
      "text/plain": [
       "<Figure size 432x288 with 2 Axes>"
      ]
     },
     "metadata": {},
     "output_type": "display_data"
    }
   ],
   "source": [
    "# set a grey background (use sns.set_theme() if seaborn version 0.11.0 or above) \n",
    "sns.set(style=\"darkgrid\")\n",
    "iris_df\n",
    " \n",
    "# creating a figure composed of two matplotlib.Axes objects (ax_box and ax_hist)\n",
    "f, (ax_box, ax_hist) = plt.subplots(2, sharex=True, gridspec_kw={\"height_ratios\": (.15, .85)})\n",
    " \n",
    "# assigning a graph to each ax\n",
    "sns.boxplot(iris_df[\"chlorides\"], ax=ax_box)\n",
    "sns.histplot(data=iris_df, x=\"chlorides\", ax=ax_hist)\n",
    " \n",
    "# Remove x axis name for the boxplot\n",
    "ax_box.set(xlabel='')\n",
    "plt.show()"
   ]
  },
  {
   "cell_type": "code",
   "execution_count": 720,
   "metadata": {},
   "outputs": [],
   "source": [
    "#iris_df['fixed acidity'][iris_df['fixed acidity'] in outliers]=np.nan\n",
    "c=0\n",
    "for i in iris_df.iloc[:,4]:\n",
    "    c=c+1\n",
    "    if i in outliers:\n",
    "        iris_df.iloc[:,4][c-1]=np.nan\n",
    "        \"\"\"\n",
    "        iris_df.iloc[:,1]=np.nan\n",
    "        \"\"\"\n",
    "     "
   ]
  },
  {
   "cell_type": "code",
   "execution_count": 721,
   "metadata": {},
   "outputs": [],
   "source": [
    "percent_missing = iris_df.isnull().sum() * 100 / len(iris_df)\n",
    "\n",
    "for i in range(len(percent_missing)):\n",
    "    if percent_missing[i]!=0:\n",
    "            iris_df[iris_df.columns[i]].fillna(iris_df[iris_df.columns[i]].mode()[0] ,inplace=True)"
   ]
  },
  {
   "cell_type": "code",
   "execution_count": 722,
   "metadata": {},
   "outputs": [
    {
     "data": {
      "image/png": "[encoded data removed]",
      "text/plain": [
       "<Figure size 432x288 with 2 Axes>"
      ]
     },
     "metadata": {},
     "output_type": "display_data"
    }
   ],
   "source": [
    "# set a grey background (use sns.set_theme() if seaborn version 0.11.0 or above) \n",
    "sns.set(style=\"darkgrid\")\n",
    "iris_df\n",
    " \n",
    "# creating a figure composed of two matplotlib.Axes objects (ax_box and ax_hist)\n",
    "f, (ax_box, ax_hist) = plt.subplots(2, sharex=True, gridspec_kw={\"height_ratios\": (.15, .85)})\n",
    " \n",
    "# assigning a graph to each ax\n",
    "sns.boxplot(iris_df[\"chlorides\"], ax=ax_box)\n",
    "sns.histplot(data=iris_df, x=\"chlorides\", ax=ax_hist)\n",
    " \n",
    "# Remove x axis name for the boxplot\n",
    "ax_box.set(xlabel='')\n",
    "plt.show()"
   ]
  },
  {
   "cell_type": "code",
   "execution_count": 596,
   "metadata": {},
   "outputs": [
    {
     "name": "stdout",
     "output_type": "stream",
     "text": [
      "<class 'pandas.core.frame.DataFrame'>\n",
      "RangeIndex: 4898 entries, 0 to 4897\n",
      "Data columns (total 12 columns):\n",
      " #   Column                Non-Null Count  Dtype  \n",
      "---  ------                --------------  -----  \n",
      " 0   fixed acidity         4898 non-null   float64\n",
      " 1   volatile acidity      4898 non-null   float64\n",
      " 2   citric acid           4898 non-null   float64\n",
      " 3   residual sugar        4898 non-null   float64\n",
      " 4   chlorides             4898 non-null   float64\n",
      " 5   free sulfur dioxide   4898 non-null   float64\n",
      " 6   total sulfur dioxide  4898 non-null   float64\n",
      " 7   density               4898 non-null   float64\n",
      " 8   pH                    4898 non-null   float64\n",
      " 9   sulphates             4898 non-null   float64\n",
      " 10  alcohol               4898 non-null   float64\n",
      " 11  quality               4898 non-null   int64  \n",
      "dtypes: float64(11), int64(1)\n",
      "memory usage: 459.3 KB\n"
     ]
    }
   ],
   "source": [
    "iris_df.info()"
   ]
  },
  {
   "cell_type": "code",
   "execution_count": 727,
   "metadata": {},
   "outputs": [
    {
     "name": "stdout",
     "output_type": "stream",
     "text": [
      "Percentiles: 25th=23.000, 75th=45.000, IQR=22.000\n",
      "Identified outliers: 7\n",
      "Non-outlier observations: 4891\n"
     ]
    }
   ],
   "source": [
    "# seed the random number generator\n",
    "seed(1)\n",
    "# generate univariate observations\n",
    "data = iris_df.iloc[:,5]\n",
    "# calculate interquartile range\n",
    "q25, q75 = percentile(data, 25), percentile(data, 75)\n",
    "iqr = q75 - q25\n",
    "print('Percentiles: 25th=%.3f, 75th=%.3f, IQR=%.3f' % (q25, q75, iqr))\n",
    "# calculate the outlier cutoff\n",
    "cut_off = iqr * 1.5\n",
    "lower, upper = q25 - cut_off, q75 + cut_off\n",
    "# identify outliers\n",
    "outliers = [x for x in data if x < lower or x > upper]\n",
    "print('Identified outliers: %d' % len(outliers))\n",
    "# remove outliers\n",
    "outliers_removed = [x for x in data if x >= lower and x <= upper]\n",
    "print('Non-outlier observations: %d' % len(outliers_removed))"
   ]
  },
  {
   "cell_type": "code",
   "execution_count": 728,
   "metadata": {},
   "outputs": [],
   "source": [
    "#iris_df['fixed acidity'][iris_df['fixed acidity'] in outliers]=np.nan\n",
    "c=0\n",
    "for i in iris_df.iloc[:,5]:\n",
    "    c=c+1\n",
    "    if i in outliers:\n",
    "        iris_df.iloc[:,5][c-1]=np.nan\n",
    "        \"\"\"\n",
    "        iris_df.iloc[:,1]=np.nan\n",
    "        \"\"\"\n",
    "  "
   ]
  },
  {
   "cell_type": "code",
   "execution_count": 729,
   "metadata": {},
   "outputs": [],
   "source": [
    "percent_missing = iris_df.isnull().sum() * 100 / len(iris_df)\n",
    "\n",
    "for i in range(len(percent_missing)):\n",
    "    if percent_missing[i]!=0:\n",
    "            iris_df[iris_df.columns[i]].fillna(iris_df[iris_df.columns[i]].mode()[0] ,inplace=True)"
   ]
  },
  {
   "cell_type": "code",
   "execution_count": 730,
   "metadata": {},
   "outputs": [
    {
     "data": {
      "image/png": "[encoded data removed]",
      "text/plain": [
       "<Figure size 432x288 with 2 Axes>"
      ]
     },
     "metadata": {},
     "output_type": "display_data"
    }
   ],
   "source": [
    "# set a grey background (use sns.set_theme() if seaborn version 0.11.0 or above) \n",
    "sns.set(style=\"darkgrid\")\n",
    "iris_df\n",
    " \n",
    "# creating a figure composed of two matplotlib.Axes objects (ax_box and ax_hist)\n",
    "f, (ax_box, ax_hist) = plt.subplots(2, sharex=True, gridspec_kw={\"height_ratios\": (.15, .85)})\n",
    " \n",
    "# assigning a graph to each ax\n",
    "sns.boxplot(iris_df[\"free sulfur dioxide\"], ax=ax_box)\n",
    "sns.histplot(data=iris_df, x=\"free sulfur dioxide\", ax=ax_hist)\n",
    " \n",
    "# Remove x axis name for the boxplot\n",
    "ax_box.set(xlabel='')\n",
    "plt.show()"
   ]
  },
  {
   "cell_type": "code",
   "execution_count": 731,
   "metadata": {},
   "outputs": [
    {
     "name": "stdout",
     "output_type": "stream",
     "text": [
      "<class 'pandas.core.frame.DataFrame'>\n",
      "RangeIndex: 4898 entries, 0 to 4897\n",
      "Data columns (total 12 columns):\n",
      " #   Column                Non-Null Count  Dtype  \n",
      "---  ------                --------------  -----  \n",
      " 0   fixed acidity         4898 non-null   float64\n",
      " 1   volatile acidity      4898 non-null   float64\n",
      " 2   citric acid           4898 non-null   float64\n",
      " 3   residual sugar        4898 non-null   float64\n",
      " 4   chlorides             4898 non-null   float64\n",
      " 5   free sulfur dioxide   4898 non-null   float64\n",
      " 6   total sulfur dioxide  4898 non-null   float64\n",
      " 7   density               4898 non-null   float64\n",
      " 8   pH                    4898 non-null   float64\n",
      " 9   sulphates             4898 non-null   float64\n",
      " 10  alcohol               4898 non-null   float64\n",
      " 11  quality               4898 non-null   int64  \n",
      "dtypes: float64(11), int64(1)\n",
      "memory usage: 459.3 KB\n"
     ]
    }
   ],
   "source": [
    "iris_df.info()"
   ]
  },
  {
   "cell_type": "code",
   "execution_count": 732,
   "metadata": {},
   "outputs": [
    {
     "name": "stdout",
     "output_type": "stream",
     "text": [
      "Percentiles: 25th=108.000, 75th=167.000, IQR=59.000\n",
      "Identified outliers: 19\n",
      "Non-outlier observations: 4879\n"
     ]
    }
   ],
   "source": [
    "# seed the random number generator\n",
    "seed(1)\n",
    "# generate univariate observations\n",
    "data = iris_df.iloc[:,6]\n",
    "# calculate interquartile range\n",
    "q25, q75 = percentile(data, 25), percentile(data, 75)\n",
    "iqr = q75 - q25\n",
    "print('Percentiles: 25th=%.3f, 75th=%.3f, IQR=%.3f' % (q25, q75, iqr))\n",
    "# calculate the outlier cutoff\n",
    "cut_off = iqr * 1.5\n",
    "lower, upper = q25 - cut_off, q75 + cut_off\n",
    "# identify outliers\n",
    "outliers = [x for x in data if x < lower or x > upper]\n",
    "print('Identified outliers: %d' % len(outliers))\n",
    "# remove outliers\n",
    "outliers_removed = [x for x in data if x >= lower and x <= upper]\n",
    "print('Non-outlier observations: %d' % len(outliers_removed))"
   ]
  },
  {
   "cell_type": "code",
   "execution_count": 733,
   "metadata": {},
   "outputs": [],
   "source": [
    "#iris_df['fixed acidity'][iris_df['fixed acidity'] in outliers]=np.nan\n",
    "c=0\n",
    "for i in iris_df.iloc[:,6]:\n",
    "    c=c+1\n",
    "    if i in outliers:\n",
    "        iris_df.iloc[:,6][c-1]=np.nan\n",
    "        \"\"\"\n",
    "        iris_df.iloc[:,1]=np.nan\n",
    "        \"\"\"\n",
    " "
   ]
  },
  {
   "cell_type": "code",
   "execution_count": 734,
   "metadata": {},
   "outputs": [],
   "source": [
    "percent_missing = iris_df.isnull().sum() * 100 / len(iris_df)\n",
    "\n",
    "for i in range(len(percent_missing)):\n",
    "    if percent_missing[i]!=0:\n",
    "            iris_df[iris_df.columns[i]].fillna(iris_df[iris_df.columns[i]].mode()[0] ,inplace=True)"
   ]
  },
  {
   "cell_type": "code",
   "execution_count": 735,
   "metadata": {},
   "outputs": [
    {
     "data": {
      "image/png": "[encoded data removed]",
      "text/plain": [
       "<Figure size 432x288 with 2 Axes>"
      ]
     },
     "metadata": {},
     "output_type": "display_data"
    }
   ],
   "source": [
    "# set a grey background (use sns.set_theme() if seaborn version 0.11.0 or above) \n",
    "sns.set(style=\"darkgrid\")\n",
    "iris_df\n",
    " \n",
    "# creating a figure composed of two matplotlib.Axes objects (ax_box and ax_hist)\n",
    "f, (ax_box, ax_hist) = plt.subplots(2, sharex=True, gridspec_kw={\"height_ratios\": (.15, .85)})\n",
    " \n",
    "# assigning a graph to each ax\n",
    "sns.boxplot(iris_df[\"total sulfur dioxide\"], ax=ax_box)\n",
    "sns.histplot(data=iris_df, x=\"total sulfur dioxide\", ax=ax_hist)\n",
    " \n",
    "# Remove x axis name for the boxplot\n",
    "ax_box.set(xlabel='')\n",
    "plt.show()"
   ]
  },
  {
   "cell_type": "code",
   "execution_count": 736,
   "metadata": {},
   "outputs": [
    {
     "name": "stdout",
     "output_type": "stream",
     "text": [
      "<class 'pandas.core.frame.DataFrame'>\n",
      "RangeIndex: 4898 entries, 0 to 4897\n",
      "Data columns (total 12 columns):\n",
      " #   Column                Non-Null Count  Dtype  \n",
      "---  ------                --------------  -----  \n",
      " 0   fixed acidity         4898 non-null   float64\n",
      " 1   volatile acidity      4898 non-null   float64\n",
      " 2   citric acid           4898 non-null   float64\n",
      " 3   residual sugar        4898 non-null   float64\n",
      " 4   chlorides             4898 non-null   float64\n",
      " 5   free sulfur dioxide   4898 non-null   float64\n",
      " 6   total sulfur dioxide  4898 non-null   float64\n",
      " 7   density               4898 non-null   float64\n",
      " 8   pH                    4898 non-null   float64\n",
      " 9   sulphates             4898 non-null   float64\n",
      " 10  alcohol               4898 non-null   float64\n",
      " 11  quality               4898 non-null   int64  \n",
      "dtypes: float64(11), int64(1)\n",
      "memory usage: 459.3 KB\n"
     ]
    }
   ],
   "source": [
    "iris_df.info()"
   ]
  },
  {
   "cell_type": "code",
   "execution_count": 737,
   "metadata": {},
   "outputs": [
    {
     "name": "stdout",
     "output_type": "stream",
     "text": [
      "Percentiles: 25th=0.992, 75th=0.996, IQR=0.004\n",
      "Identified outliers: 5\n",
      "Non-outlier observations: 4893\n"
     ]
    }
   ],
   "source": [
    "# seed the random number generator\n",
    "seed(1)\n",
    "# generate univariate observations\n",
    "data = iris_df.iloc[:,7]\n",
    "# calculate interquartile range\n",
    "q25, q75 = percentile(data, 25), percentile(data, 75)\n",
    "iqr = q75 - q25\n",
    "print('Percentiles: 25th=%.3f, 75th=%.3f, IQR=%.3f' % (q25, q75, iqr))\n",
    "# calculate the outlier cutoff\n",
    "cut_off = iqr * 1.5\n",
    "lower, upper = q25 - cut_off, q75 + cut_off\n",
    "# identify outliers\n",
    "outliers = [x for x in data if x < lower or x > upper]\n",
    "print('Identified outliers: %d' % len(outliers))\n",
    "# remove outliers\n",
    "outliers_removed = [x for x in data if x >= lower and x <= upper]\n",
    "print('Non-outlier observations: %d' % len(outliers_removed))"
   ]
  },
  {
   "cell_type": "code",
   "execution_count": 738,
   "metadata": {},
   "outputs": [],
   "source": [
    "#iris_df['fixed acidity'][iris_df['fixed acidity'] in outliers]=np.nan\n",
    "c=0\n",
    "for i in iris_df.iloc[:,7]:\n",
    "    c=c+1\n",
    "    if i in outliers:\n",
    "        iris_df.iloc[:,7][c-1]=np.nan\n",
    "        \"\"\"\n",
    "        iris_df.iloc[:,1]=np.nan\n",
    "        \"\"\"\n",
    " "
   ]
  },
  {
   "cell_type": "code",
   "execution_count": 739,
   "metadata": {},
   "outputs": [],
   "source": [
    "percent_missing = iris_df.isnull().sum() * 100 / len(iris_df)\n",
    "\n",
    "for i in range(len(percent_missing)):\n",
    "    if percent_missing[i]!=0:\n",
    "            iris_df[iris_df.columns[i]].fillna(iris_df[iris_df.columns[i]].mode()[0] ,inplace=True)"
   ]
  },
  {
   "cell_type": "code",
   "execution_count": 740,
   "metadata": {},
   "outputs": [
    {
     "data": {
      "image/png": "[encoded data removed]",
      "text/plain": [
       "<Figure size 432x288 with 2 Axes>"
      ]
     },
     "metadata": {},
     "output_type": "display_data"
    }
   ],
   "source": [
    "# set a grey background (use sns.set_theme() if seaborn version 0.11.0 or above) \n",
    "sns.set(style=\"darkgrid\")\n",
    "iris_df\n",
    " \n",
    "# creating a figure composed of two matplotlib.Axes objects (ax_box and ax_hist)\n",
    "f, (ax_box, ax_hist) = plt.subplots(2, sharex=True, gridspec_kw={\"height_ratios\": (.15, .85)})\n",
    " \n",
    "# assigning a graph to each ax\n",
    "sns.boxplot(iris_df[\"density\"], ax=ax_box)\n",
    "sns.histplot(data=iris_df, x=\"density\", ax=ax_hist)\n",
    " \n",
    "# Remove x axis name for the boxplot\n",
    "ax_box.set(xlabel='')\n",
    "plt.show()"
   ]
  },
  {
   "cell_type": "code",
   "execution_count": 741,
   "metadata": {},
   "outputs": [
    {
     "name": "stdout",
     "output_type": "stream",
     "text": [
      "<class 'pandas.core.frame.DataFrame'>\n",
      "RangeIndex: 4898 entries, 0 to 4897\n",
      "Data columns (total 12 columns):\n",
      " #   Column                Non-Null Count  Dtype  \n",
      "---  ------                --------------  -----  \n",
      " 0   fixed acidity         4898 non-null   float64\n",
      " 1   volatile acidity      4898 non-null   float64\n",
      " 2   citric acid           4898 non-null   float64\n",
      " 3   residual sugar        4898 non-null   float64\n",
      " 4   chlorides             4898 non-null   float64\n",
      " 5   free sulfur dioxide   4898 non-null   float64\n",
      " 6   total sulfur dioxide  4898 non-null   float64\n",
      " 7   density               4898 non-null   float64\n",
      " 8   pH                    4898 non-null   float64\n",
      " 9   sulphates             4898 non-null   float64\n",
      " 10  alcohol               4898 non-null   float64\n",
      " 11  quality               4898 non-null   int64  \n",
      "dtypes: float64(11), int64(1)\n",
      "memory usage: 459.3 KB\n"
     ]
    }
   ],
   "source": [
    "iris_df.info()"
   ]
  },
  {
   "cell_type": "code",
   "execution_count": 747,
   "metadata": {},
   "outputs": [
    {
     "name": "stdout",
     "output_type": "stream",
     "text": [
      "Percentiles: 25th=3.090, 75th=3.270, IQR=0.180\n",
      "Identified outliers: 17\n",
      "Non-outlier observations: 4881\n"
     ]
    }
   ],
   "source": [
    "# seed the random number generator\n",
    "seed(1)\n",
    "# generate univariate observations\n",
    "data = iris_df.iloc[:,8]\n",
    "# calculate interquartile range\n",
    "q25, q75 = percentile(data, 25), percentile(data, 75)\n",
    "iqr = q75 - q25\n",
    "print('Percentiles: 25th=%.3f, 75th=%.3f, IQR=%.3f' % (q25, q75, iqr))\n",
    "# calculate the outlier cutoff\n",
    "cut_off = iqr * 1.5\n",
    "lower, upper = q25 - cut_off, q75 + cut_off\n",
    "# identify outliers\n",
    "outliers = [x for x in data if x < lower or x > upper]\n",
    "print('Identified outliers: %d' % len(outliers))\n",
    "# remove outliers\n",
    "outliers_removed = [x for x in data if x >= lower and x <= upper]\n",
    "print('Non-outlier observations: %d' % len(outliers_removed))"
   ]
  },
  {
   "cell_type": "code",
   "execution_count": 748,
   "metadata": {},
   "outputs": [],
   "source": [
    "#iris_df['fixed acidity'][iris_df['fixed acidity'] in outliers]=np.nan\n",
    "c=0\n",
    "for i in iris_df.iloc[:,8]:\n",
    "    c=c+1\n",
    "    if i in outliers:\n",
    "        iris_df.iloc[:,8][c-1]=np.nan\n",
    "        \"\"\"\n",
    "        iris_df.iloc[:,1]=np.nan\n",
    "        \"\"\"\n",
    " "
   ]
  },
  {
   "cell_type": "code",
   "execution_count": 749,
   "metadata": {},
   "outputs": [],
   "source": [
    "percent_missing = iris_df.isnull().sum() * 100 / len(iris_df)\n",
    "\n",
    "for i in range(len(percent_missing)):\n",
    "    if percent_missing[i]!=0:\n",
    "            iris_df[iris_df.columns[i]].fillna(iris_df[iris_df.columns[i]].mode()[0] ,inplace=True)"
   ]
  },
  {
   "cell_type": "code",
   "execution_count": 750,
   "metadata": {},
   "outputs": [
    {
     "data": {
      "image/png": "[encoded data removed]",
      "text/plain": [
       "<Figure size 432x288 with 2 Axes>"
      ]
     },
     "metadata": {},
     "output_type": "display_data"
    }
   ],
   "source": [
    "# set a grey background (use sns.set_theme() if seaborn version 0.11.0 or above) \n",
    "sns.set(style=\"darkgrid\")\n",
    "iris_df\n",
    " \n",
    "# creating a figure composed of two matplotlib.Axes objects (ax_box and ax_hist)\n",
    "f, (ax_box, ax_hist) = plt.subplots(2, sharex=True, gridspec_kw={\"height_ratios\": (.15, .85)})\n",
    " \n",
    "# assigning a graph to each ax\n",
    "sns.boxplot(iris_df[\"pH\"], ax=ax_box)\n",
    "sns.histplot(data=iris_df, x=\"pH\", ax=ax_hist)\n",
    " \n",
    "# Remove x axis name for the boxplot\n",
    "ax_box.set(xlabel='')\n",
    "plt.show()"
   ]
  },
  {
   "cell_type": "code",
   "execution_count": 753,
   "metadata": {},
   "outputs": [
    {
     "name": "stdout",
     "output_type": "stream",
     "text": [
      "<class 'pandas.core.frame.DataFrame'>\n",
      "RangeIndex: 4898 entries, 0 to 4897\n",
      "Data columns (total 12 columns):\n",
      " #   Column                Non-Null Count  Dtype  \n",
      "---  ------                --------------  -----  \n",
      " 0   fixed acidity         4898 non-null   float64\n",
      " 1   volatile acidity      4898 non-null   float64\n",
      " 2   citric acid           4898 non-null   float64\n",
      " 3   residual sugar        4898 non-null   float64\n",
      " 4   chlorides             4898 non-null   float64\n",
      " 5   free sulfur dioxide   4898 non-null   float64\n",
      " 6   total sulfur dioxide  4898 non-null   float64\n",
      " 7   density               4898 non-null   float64\n",
      " 8   pH                    4898 non-null   float64\n",
      " 9   sulphates             4898 non-null   float64\n",
      " 10  alcohol               4898 non-null   float64\n",
      " 11  quality               4898 non-null   int64  \n",
      "dtypes: float64(11), int64(1)\n",
      "memory usage: 459.3 KB\n"
     ]
    }
   ],
   "source": [
    "iris_df.info()"
   ]
  },
  {
   "cell_type": "code",
   "execution_count": 758,
   "metadata": {},
   "outputs": [
    {
     "name": "stdout",
     "output_type": "stream",
     "text": [
      "Percentiles: 25th=0.410, 75th=0.540, IQR=0.130\n",
      "Identified outliers: 60\n",
      "Non-outlier observations: 4838\n"
     ]
    }
   ],
   "source": [
    "# seed the random number generator\n",
    "seed(1)\n",
    "# generate univariate observations\n",
    "data = iris_df.iloc[:,9]\n",
    "# calculate interquartile range\n",
    "q25, q75 = percentile(data, 25), percentile(data, 75)\n",
    "iqr = q75 - q25\n",
    "print('Percentiles: 25th=%.3f, 75th=%.3f, IQR=%.3f' % (q25, q75, iqr))\n",
    "# calculate the outlier cutoff\n",
    "cut_off = iqr * 1.5\n",
    "lower, upper = q25 - cut_off, q75 + cut_off\n",
    "# identify outliers\n",
    "outliers = [x for x in data if x < lower or x > upper]\n",
    "print('Identified outliers: %d' % len(outliers))\n",
    "# remove outliers\n",
    "outliers_removed = [x for x in data if x >= lower and x <= upper]\n",
    "print('Non-outlier observations: %d' % len(outliers_removed))"
   ]
  },
  {
   "cell_type": "code",
   "execution_count": 759,
   "metadata": {},
   "outputs": [],
   "source": [
    "#iris_df['fixed acidity'][iris_df['fixed acidity'] in outliers]=np.nan\n",
    "c=0\n",
    "for i in iris_df.iloc[:,9]:\n",
    "    c=c+1\n",
    "    if i in outliers:\n",
    "        iris_df.iloc[:,9][c-1]=np.nan\n",
    "        \"\"\"\n",
    "        iris_df.iloc[:,1]=np.nan\n",
    "        \"\"\"\n",
    " "
   ]
  },
  {
   "cell_type": "code",
   "execution_count": 760,
   "metadata": {},
   "outputs": [],
   "source": [
    "percent_missing = iris_df.isnull().sum() * 100 / len(iris_df)\n",
    "\n",
    "for i in range(len(percent_missing)):\n",
    "    if percent_missing[i]!=0:\n",
    "            iris_df[iris_df.columns[i]].fillna(iris_df[iris_df.columns[i]].mode()[0] ,inplace=True)"
   ]
  },
  {
   "cell_type": "code",
   "execution_count": 761,
   "metadata": {},
   "outputs": [
    {
     "data": {
      "image/png": "[encoded data removed]",
      "text/plain": [
       "<Figure size 432x288 with 2 Axes>"
      ]
     },
     "metadata": {},
     "output_type": "display_data"
    }
   ],
   "source": [
    "# set a grey background (use sns.set_theme() if seaborn version 0.11.0 or above) \n",
    "sns.set(style=\"darkgrid\")\n",
    "iris_df\n",
    " \n",
    "# creating a figure composed of two matplotlib.Axes objects (ax_box and ax_hist)\n",
    "f, (ax_box, ax_hist) = plt.subplots(2, sharex=True, gridspec_kw={\"height_ratios\": (.15, .85)})\n",
    " \n",
    "# assigning a graph to each ax\n",
    "sns.boxplot(iris_df[\"sulphates\"], ax=ax_box)\n",
    "sns.histplot(data=iris_df, x=\"sulphates\", ax=ax_hist)\n",
    " \n",
    "# Remove x axis name for the boxplot\n",
    "ax_box.set(xlabel='')\n",
    "plt.show()"
   ]
  },
  {
   "cell_type": "code",
   "execution_count": 762,
   "metadata": {},
   "outputs": [
    {
     "name": "stdout",
     "output_type": "stream",
     "text": [
      "<class 'pandas.core.frame.DataFrame'>\n",
      "RangeIndex: 4898 entries, 0 to 4897\n",
      "Data columns (total 12 columns):\n",
      " #   Column                Non-Null Count  Dtype  \n",
      "---  ------                --------------  -----  \n",
      " 0   fixed acidity         4898 non-null   float64\n",
      " 1   volatile acidity      4898 non-null   float64\n",
      " 2   citric acid           4898 non-null   float64\n",
      " 3   residual sugar        4898 non-null   float64\n",
      " 4   chlorides             4898 non-null   float64\n",
      " 5   free sulfur dioxide   4898 non-null   float64\n",
      " 6   total sulfur dioxide  4898 non-null   float64\n",
      " 7   density               4898 non-null   float64\n",
      " 8   pH                    4898 non-null   float64\n",
      " 9   sulphates             4898 non-null   float64\n",
      " 10  alcohol               4898 non-null   float64\n",
      " 11  quality               4898 non-null   int64  \n",
      "dtypes: float64(11), int64(1)\n",
      "memory usage: 459.3 KB\n"
     ]
    }
   ],
   "source": [
    "iris_df.info()"
   ]
  },
  {
   "cell_type": "code",
   "execution_count": 764,
   "metadata": {},
   "outputs": [
    {
     "name": "stdout",
     "output_type": "stream",
     "text": [
      "Percentiles: 25th=9.500, 75th=11.400, IQR=1.900\n",
      "Identified outliers: 0\n",
      "Non-outlier observations: 4898\n"
     ]
    }
   ],
   "source": [
    "# seed the random number generator\n",
    "seed(1)\n",
    "# generate univariate observations\n",
    "data = iris_df.iloc[:,10]\n",
    "# calculate interquartile range\n",
    "q25, q75 = percentile(data, 25), percentile(data, 75)\n",
    "iqr = q75 - q25\n",
    "print('Percentiles: 25th=%.3f, 75th=%.3f, IQR=%.3f' % (q25, q75, iqr))\n",
    "# calculate the outlier cutoff\n",
    "cut_off = iqr * 1.5\n",
    "lower, upper = q25 - cut_off, q75 + cut_off\n",
    "# identify outliers\n",
    "outliers = [x for x in data if x < lower or x > upper]\n",
    "print('Identified outliers: %d' % len(outliers))\n",
    "# remove outliers\n",
    "outliers_removed = [x for x in data if x >= lower and x <= upper]\n",
    "print('Non-outlier observations: %d' % len(outliers_removed))"
   ]
  },
  {
   "cell_type": "code",
   "execution_count": 765,
   "metadata": {},
   "outputs": [],
   "source": [
    "#iris_df['fixed acidity'][iris_df['fixed acidity'] in outliers]=np.nan\n",
    "c=0\n",
    "for i in iris_df.iloc[:,10]:\n",
    "    c=c+1\n",
    "    if i in outliers:\n",
    "        iris_df.iloc[:,10][c-1]=np.nan\n",
    "        \"\"\"\n",
    "        iris_df.iloc[:,1]=np.nan\n",
    "        \"\"\"\n",
    " "
   ]
  },
  {
   "cell_type": "code",
   "execution_count": 766,
   "metadata": {},
   "outputs": [],
   "source": [
    "percent_missing = iris_df.isnull().sum() * 100 / len(iris_df)\n",
    "\n",
    "for i in range(len(percent_missing)):\n",
    "    if percent_missing[i]!=0:\n",
    "            iris_df[iris_df.columns[i]].fillna(iris_df[iris_df.columns[i]].mode()[0] ,inplace=True)"
   ]
  },
  {
   "cell_type": "code",
   "execution_count": 767,
   "metadata": {},
   "outputs": [
    {
     "data": {
      "image/png": "[encoded data removed]",
      "text/plain": [
       "<Figure size 432x288 with 2 Axes>"
      ]
     },
     "metadata": {},
     "output_type": "display_data"
    }
   ],
   "source": [
    "# set a grey background (use sns.set_theme() if seaborn version 0.11.0 or above) \n",
    "sns.set(style=\"darkgrid\")\n",
    "iris_df\n",
    " \n",
    "# creating a figure composed of two matplotlib.Axes objects (ax_box and ax_hist)\n",
    "f, (ax_box, ax_hist) = plt.subplots(2, sharex=True, gridspec_kw={\"height_ratios\": (.15, .85)})\n",
    " \n",
    "# assigning a graph to each ax\n",
    "sns.boxplot(iris_df[\"alcohol\"], ax=ax_box)\n",
    "sns.histplot(data=iris_df, x=\"alcohol\", ax=ax_hist)\n",
    " \n",
    "# Remove x axis name for the boxplot\n",
    "ax_box.set(xlabel='')\n",
    "plt.show()"
   ]
  },
  {
   "cell_type": "code",
   "execution_count": 768,
   "metadata": {},
   "outputs": [
    {
     "name": "stdout",
     "output_type": "stream",
     "text": [
      "<class 'pandas.core.frame.DataFrame'>\n",
      "RangeIndex: 4898 entries, 0 to 4897\n",
      "Data columns (total 12 columns):\n",
      " #   Column                Non-Null Count  Dtype  \n",
      "---  ------                --------------  -----  \n",
      " 0   fixed acidity         4898 non-null   float64\n",
      " 1   volatile acidity      4898 non-null   float64\n",
      " 2   citric acid           4898 non-null   float64\n",
      " 3   residual sugar        4898 non-null   float64\n",
      " 4   chlorides             4898 non-null   float64\n",
      " 5   free sulfur dioxide   4898 non-null   float64\n",
      " 6   total sulfur dioxide  4898 non-null   float64\n",
      " 7   density               4898 non-null   float64\n",
      " 8   pH                    4898 non-null   float64\n",
      " 9   sulphates             4898 non-null   float64\n",
      " 10  alcohol               4898 non-null   float64\n",
      " 11  quality               4898 non-null   int64  \n",
      "dtypes: float64(11), int64(1)\n",
      "memory usage: 459.3 KB\n"
     ]
    }
   ],
   "source": [
    "iris_df.info()"
   ]
  },
  {
   "cell_type": "code",
   "execution_count": 769,
   "metadata": {},
   "outputs": [
    {
     "name": "stdout",
     "output_type": "stream",
     "text": [
      "Percentiles: 25th=5.000, 75th=6.000, IQR=1.000\n",
      "Identified outliers: 200\n",
      "Non-outlier observations: 4698\n"
     ]
    }
   ],
   "source": [
    "# seed the random number generator\n",
    "seed(1)\n",
    "# generate univariate observations\n",
    "data = iris_df.iloc[:,11]\n",
    "# calculate interquartile range\n",
    "q25, q75 = percentile(data, 25), percentile(data, 75)\n",
    "iqr = q75 - q25\n",
    "print('Percentiles: 25th=%.3f, 75th=%.3f, IQR=%.3f' % (q25, q75, iqr))\n",
    "# calculate the outlier cutoff\n",
    "cut_off = iqr * 1.5\n",
    "lower, upper = q25 - cut_off, q75 + cut_off\n",
    "# identify outliers\n",
    "outliers = [x for x in data if x < lower or x > upper]\n",
    "print('Identified outliers: %d' % len(outliers))\n",
    "# remove outliers\n",
    "outliers_removed = [x for x in data if x >= lower and x <= upper]\n",
    "print('Non-outlier observations: %d' % len(outliers_removed))"
   ]
  },
  {
   "cell_type": "code",
   "execution_count": 770,
   "metadata": {},
   "outputs": [],
   "source": [
    "#iris_df['fixed acidity'][iris_df['fixed acidity'] in outliers]=np.nan\n",
    "c=0\n",
    "for i in iris_df.iloc[:,11]:\n",
    "    c=c+1\n",
    "    if i in outliers:\n",
    "        iris_df.iloc[:,11][c-1]=np.nan\n",
    "        \"\"\"\n",
    "        iris_df.iloc[:,1]=np.nan\n",
    "        \"\"\"\n",
    " "
   ]
  },
  {
   "cell_type": "code",
   "execution_count": 771,
   "metadata": {},
   "outputs": [],
   "source": [
    "percent_missing = iris_df.isnull().sum() * 100 / len(iris_df)\n",
    "\n",
    "for i in range(len(percent_missing)):\n",
    "    if percent_missing[i]!=0:\n",
    "            iris_df[iris_df.columns[i]].fillna(iris_df[iris_df.columns[i]].mode()[0] ,inplace=True)"
   ]
  },
  {
   "cell_type": "code",
   "execution_count": 772,
   "metadata": {},
   "outputs": [
    {
     "data": {
      "image/png": "[encoded data removed]",
      "text/plain": [
       "<Figure size 432x288 with 2 Axes>"
      ]
     },
     "metadata": {},
     "output_type": "display_data"
    }
   ],
   "source": [
    "# set a grey background (use sns.set_theme() if seaborn version 0.11.0 or above) \n",
    "sns.set(style=\"darkgrid\")\n",
    "iris_df\n",
    " \n",
    "# creating a figure composed of two matplotlib.Axes objects (ax_box and ax_hist)\n",
    "f, (ax_box, ax_hist) = plt.subplots(2, sharex=True, gridspec_kw={\"height_ratios\": (.15, .85)})\n",
    " \n",
    "# assigning a graph to each ax\n",
    "sns.boxplot(iris_df[\"quality\"], ax=ax_box)\n",
    "sns.histplot(data=iris_df, x=\"quality\", ax=ax_hist)\n",
    " \n",
    "# Remove x axis name for the boxplot\n",
    "ax_box.set(xlabel='')\n",
    "plt.show()"
   ]
  },
  {
   "cell_type": "code",
   "execution_count": 773,
   "metadata": {},
   "outputs": [
    {
     "data": {
      "text/html": [
       "<div>\n",
       "<style scoped>\n",
       "    .dataframe tbody tr th:only-of-type {\n",
       "        vertical-align: middle;\n",
       "    }\n",
       "\n",
       "    .dataframe tbody tr th {\n",
       "        vertical-align: top;\n",
       "    }\n",
       "\n",
       "    .dataframe thead th {\n",
       "        text-align: right;\n",
       "    }\n",
       "</style>\n",
       "<table border=\"1\" class=\"dataframe\">\n",
       "  <thead>\n",
       "    <tr style=\"text-align: right;\">\n",
       "      <th></th>\n",
       "      <th>fixed acidity</th>\n",
       "      <th>volatile acidity</th>\n",
       "      <th>citric acid</th>\n",
       "      <th>residual sugar</th>\n",
       "      <th>chlorides</th>\n",
       "      <th>free sulfur dioxide</th>\n",
       "      <th>total sulfur dioxide</th>\n",
       "      <th>density</th>\n",
       "      <th>pH</th>\n",
       "      <th>sulphates</th>\n",
       "      <th>alcohol</th>\n",
       "      <th>quality</th>\n",
       "    </tr>\n",
       "  </thead>\n",
       "  <tbody>\n",
       "    <tr>\n",
       "      <th>fixed acidity</th>\n",
       "      <td>1.000000</td>\n",
       "      <td>-0.039489</td>\n",
       "      <td>0.249993</td>\n",
       "      <td>0.120035</td>\n",
       "      <td>0.102597</td>\n",
       "      <td>-0.000007</td>\n",
       "      <td>0.104511</td>\n",
       "      <td>0.265294</td>\n",
       "      <td>-0.361892</td>\n",
       "      <td>-0.012516</td>\n",
       "      <td>-0.113789</td>\n",
       "      <td>-0.066630</td>\n",
       "    </tr>\n",
       "    <tr>\n",
       "      <th>volatile acidity</th>\n",
       "      <td>-0.039489</td>\n",
       "      <td>1.000000</td>\n",
       "      <td>-0.133915</td>\n",
       "      <td>0.075709</td>\n",
       "      <td>-0.020375</td>\n",
       "      <td>-0.041580</td>\n",
       "      <td>0.118575</td>\n",
       "      <td>0.004096</td>\n",
       "      <td>-0.033413</td>\n",
       "      <td>0.004279</td>\n",
       "      <td>0.077876</td>\n",
       "      <td>-0.159230</td>\n",
       "    </tr>\n",
       "    <tr>\n",
       "      <th>citric acid</th>\n",
       "      <td>0.249993</td>\n",
       "      <td>-0.133915</td>\n",
       "      <td>1.000000</td>\n",
       "      <td>-0.029160</td>\n",
       "      <td>0.007926</td>\n",
       "      <td>0.030804</td>\n",
       "      <td>0.032021</td>\n",
       "      <td>0.027549</td>\n",
       "      <td>-0.071679</td>\n",
       "      <td>0.027188</td>\n",
       "      <td>0.043392</td>\n",
       "      <td>0.046790</td>\n",
       "    </tr>\n",
       "    <tr>\n",
       "      <th>residual sugar</th>\n",
       "      <td>0.120035</td>\n",
       "      <td>0.075709</td>\n",
       "      <td>-0.029160</td>\n",
       "      <td>1.000000</td>\n",
       "      <td>0.261659</td>\n",
       "      <td>0.336375</td>\n",
       "      <td>0.413324</td>\n",
       "      <td>0.829819</td>\n",
       "      <td>-0.190817</td>\n",
       "      <td>-0.018912</td>\n",
       "      <td>-0.461090</td>\n",
       "      <td>-0.100887</td>\n",
       "    </tr>\n",
       "    <tr>\n",
       "      <th>chlorides</th>\n",
       "      <td>0.102597</td>\n",
       "      <td>-0.020375</td>\n",
       "      <td>0.007926</td>\n",
       "      <td>0.261659</td>\n",
       "      <td>1.000000</td>\n",
       "      <td>0.164478</td>\n",
       "      <td>0.357071</td>\n",
       "      <td>0.490239</td>\n",
       "      <td>-0.031361</td>\n",
       "      <td>0.091964</td>\n",
       "      <td>-0.536399</td>\n",
       "      <td>-0.267605</td>\n",
       "    </tr>\n",
       "    <tr>\n",
       "      <th>free sulfur dioxide</th>\n",
       "      <td>-0.000007</td>\n",
       "      <td>-0.041580</td>\n",
       "      <td>0.030804</td>\n",
       "      <td>0.336375</td>\n",
       "      <td>0.164478</td>\n",
       "      <td>1.000000</td>\n",
       "      <td>0.596273</td>\n",
       "      <td>0.331732</td>\n",
       "      <td>-0.018606</td>\n",
       "      <td>0.043353</td>\n",
       "      <td>-0.262469</td>\n",
       "      <td>0.031376</td>\n",
       "    </tr>\n",
       "    <tr>\n",
       "      <th>total sulfur dioxide</th>\n",
       "      <td>0.104511</td>\n",
       "      <td>0.118575</td>\n",
       "      <td>0.032021</td>\n",
       "      <td>0.413324</td>\n",
       "      <td>0.357071</td>\n",
       "      <td>0.596273</td>\n",
       "      <td>1.000000</td>\n",
       "      <td>0.547795</td>\n",
       "      <td>-0.009491</td>\n",
       "      <td>0.155058</td>\n",
       "      <td>-0.453632</td>\n",
       "      <td>-0.160479</td>\n",
       "    </tr>\n",
       "    <tr>\n",
       "      <th>density</th>\n",
       "      <td>0.265294</td>\n",
       "      <td>0.004096</td>\n",
       "      <td>0.027549</td>\n",
       "      <td>0.829819</td>\n",
       "      <td>0.490239</td>\n",
       "      <td>0.331732</td>\n",
       "      <td>0.547795</td>\n",
       "      <td>1.000000</td>\n",
       "      <td>-0.111678</td>\n",
       "      <td>0.093896</td>\n",
       "      <td>-0.804970</td>\n",
       "      <td>-0.305070</td>\n",
       "    </tr>\n",
       "    <tr>\n",
       "      <th>pH</th>\n",
       "      <td>-0.361892</td>\n",
       "      <td>-0.033413</td>\n",
       "      <td>-0.071679</td>\n",
       "      <td>-0.190817</td>\n",
       "      <td>-0.031361</td>\n",
       "      <td>-0.018606</td>\n",
       "      <td>-0.009491</td>\n",
       "      <td>-0.111678</td>\n",
       "      <td>1.000000</td>\n",
       "      <td>0.128120</td>\n",
       "      <td>0.127963</td>\n",
       "      <td>0.102006</td>\n",
       "    </tr>\n",
       "    <tr>\n",
       "      <th>sulphates</th>\n",
       "      <td>-0.012516</td>\n",
       "      <td>0.004279</td>\n",
       "      <td>0.027188</td>\n",
       "      <td>-0.018912</td>\n",
       "      <td>0.091964</td>\n",
       "      <td>0.043353</td>\n",
       "      <td>0.155058</td>\n",
       "      <td>0.093896</td>\n",
       "      <td>0.128120</td>\n",
       "      <td>1.000000</td>\n",
       "      <td>-0.058535</td>\n",
       "      <td>0.034413</td>\n",
       "    </tr>\n",
       "    <tr>\n",
       "      <th>alcohol</th>\n",
       "      <td>-0.113789</td>\n",
       "      <td>0.077876</td>\n",
       "      <td>0.043392</td>\n",
       "      <td>-0.461090</td>\n",
       "      <td>-0.536399</td>\n",
       "      <td>-0.262469</td>\n",
       "      <td>-0.453632</td>\n",
       "      <td>-0.804970</td>\n",
       "      <td>0.127963</td>\n",
       "      <td>-0.058535</td>\n",
       "      <td>1.000000</td>\n",
       "      <td>0.414626</td>\n",
       "    </tr>\n",
       "    <tr>\n",
       "      <th>quality</th>\n",
       "      <td>-0.066630</td>\n",
       "      <td>-0.159230</td>\n",
       "      <td>0.046790</td>\n",
       "      <td>-0.100887</td>\n",
       "      <td>-0.267605</td>\n",
       "      <td>0.031376</td>\n",
       "      <td>-0.160479</td>\n",
       "      <td>-0.305070</td>\n",
       "      <td>0.102006</td>\n",
       "      <td>0.034413</td>\n",
       "      <td>0.414626</td>\n",
       "      <td>1.000000</td>\n",
       "    </tr>\n",
       "  </tbody>\n",
       "</table>\n",
       "</div>"
      ],
      "text/plain": [
       "                      fixed acidity  volatile acidity  citric acid  \\\n",
       "fixed acidity              1.000000         -0.039489     0.249993   \n",
       "volatile acidity          -0.039489          1.000000    -0.133915   \n",
       "citric acid                0.249993         -0.133915     1.000000   \n",
       "residual sugar             0.120035          0.075709    -0.029160   \n",
       "chlorides                  0.102597         -0.020375     0.007926   \n",
       "free sulfur dioxide       -0.000007         -0.041580     0.030804   \n",
       "total sulfur dioxide       0.104511          0.118575     0.032021   \n",
       "density                    0.265294          0.004096     0.027549   \n",
       "pH                        -0.361892         -0.033413    -0.071679   \n",
       "sulphates                 -0.012516          0.004279     0.027188   \n",
       "alcohol                   -0.113789          0.077876     0.043392   \n",
       "quality                   -0.066630         -0.159230     0.046790   \n",
       "\n",
       "                      residual sugar  chlorides  free sulfur dioxide  \\\n",
       "fixed acidity               0.120035   0.102597            -0.000007   \n",
       "volatile acidity            0.075709  -0.020375            -0.041580   \n",
       "citric acid                -0.029160   0.007926             0.030804   \n",
       "residual sugar              1.000000   0.261659             0.336375   \n",
       "chlorides                   0.261659   1.000000             0.164478   \n",
       "free sulfur dioxide         0.336375   0.164478             1.000000   \n",
       "total sulfur dioxide        0.413324   0.357071             0.596273   \n",
       "density                     0.829819   0.490239             0.331732   \n",
       "pH                         -0.190817  -0.031361            -0.018606   \n",
       "sulphates                  -0.018912   0.091964             0.043353   \n",
       "alcohol                    -0.461090  -0.536399            -0.262469   \n",
       "quality                    -0.100887  -0.267605             0.031376   \n",
       "\n",
       "                      total sulfur dioxide   density        pH  sulphates  \\\n",
       "fixed acidity                     0.104511  0.265294 -0.361892  -0.012516   \n",
       "volatile acidity                  0.118575  0.004096 -0.033413   0.004279   \n",
       "citric acid                       0.032021  0.027549 -0.071679   0.027188   \n",
       "residual sugar                    0.413324  0.829819 -0.190817  -0.018912   \n",
       "chlorides                         0.357071  0.490239 -0.031361   0.091964   \n",
       "free sulfur dioxide               0.596273  0.331732 -0.018606   0.043353   \n",
       "total sulfur dioxide              1.000000  0.547795 -0.009491   0.155058   \n",
       "density                           0.547795  1.000000 -0.111678   0.093896   \n",
       "pH                               -0.009491 -0.111678  1.000000   0.128120   \n",
       "sulphates                         0.155058  0.093896  0.128120   1.000000   \n",
       "alcohol                          -0.453632 -0.804970  0.127963  -0.058535   \n",
       "quality                          -0.160479 -0.305070  0.102006   0.034413   \n",
       "\n",
       "                       alcohol   quality  \n",
       "fixed acidity        -0.113789 -0.066630  \n",
       "volatile acidity      0.077876 -0.159230  \n",
       "citric acid           0.043392  0.046790  \n",
       "residual sugar       -0.461090 -0.100887  \n",
       "chlorides            -0.536399 -0.267605  \n",
       "free sulfur dioxide  -0.262469  0.031376  \n",
       "total sulfur dioxide -0.453632 -0.160479  \n",
       "density              -0.804970 -0.305070  \n",
       "pH                    0.127963  0.102006  \n",
       "sulphates            -0.058535  0.034413  \n",
       "alcohol               1.000000  0.414626  \n",
       "quality               0.414626  1.000000  "
      ]
     },
     "execution_count": 773,
     "metadata": {},
     "output_type": "execute_result"
    }
   ],
   "source": [
    "iris_df.corr()"
   ]
  },
  {
   "cell_type": "code",
   "execution_count": 775,
   "metadata": {},
   "outputs": [
    {
     "data": {
      "image/png": "[encoded data removed]",
      "text/plain": [
       "<Figure size 432x288 with 1 Axes>"
      ]
     },
     "metadata": {},
     "output_type": "display_data"
    }
   ],
   "source": [
    "plt.scatter(iris_df.iloc[:,6], iris_df.iloc[:,3])\n",
    "plt.show()"
   ]
  }
 ],
 "metadata": {
  "kernelspec": {
   "display_name": "Python 3",
   "language": "python",
   "name": "python3"
  },
  "language_info": {
   "codemirror_mode": {
    "name": "ipython",
    "version": 3
   },
   "file_extension": ".py",
   "mimetype": "text/x-python",
   "name": "python",
   "nbconvert_exporter": "python",
   "pygments_lexer": "ipython3",
   "version": "3.8.5"
  }
 },
 "nbformat": 4,
 "nbformat_minor": 4
}
